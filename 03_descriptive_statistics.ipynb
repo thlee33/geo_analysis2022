{
 "cells": [
  {
   "cell_type": "markdown",
   "metadata": {},
   "source": [
    "# 목표 : 데이터의 기술통계 및 결측치를 확인하고 보정해보자"
   ]
  },
  {
   "cell_type": "code",
   "execution_count": 4,
   "metadata": {},
   "outputs": [
    {
     "name": "stdout",
     "output_type": "stream",
     "text": [
      "Name: pandas\n",
      "Version: 1.1.3\n",
      "Summary: Powerful data structures for data analysis, time series, and statistics\n",
      "Home-page: https://pandas.pydata.org\n",
      "Author: None\n",
      "Author-email: None\n",
      "License: BSD\n",
      "Location: c:\\users\\dhl\\anaconda3\\lib\\site-packages\n",
      "Requires: python-dateutil, pytz, numpy\n",
      "Required-by: xarray, statsmodels, seaborn, osmnx, mapclassify, holoviews, geopandas, datashader\n"
     ]
    }
   ],
   "source": [
    "# 설치된 패키지에 대한 메타데이터 조회 \n",
    "!pip show pandas"
   ]
  },
  {
   "cell_type": "code",
   "execution_count": 5,
   "metadata": {},
   "outputs": [],
   "source": [
    "import pandas as pd"
   ]
  },
  {
   "cell_type": "code",
   "execution_count": 6,
   "metadata": {},
   "outputs": [],
   "source": [
    "# \"전국어린이보호구역표준데이터\" CSV 파일 로딩 \n",
    "df_schoolzone = pd.read_csv('./data/전국어린이보호구역표준데이터.csv', header=0, \n",
    "                          names=['type', 'name', 'addr_road', 'addr_jibun', 'lat', 'lon', 'admin_nm', 'admi_police', 'cctv_yn', 'cctv_cnt', 'road_width', 'date_data', 'admin_cd', 'admin_nm2'], \n",
    "                          usecols=['type', 'name', 'addr_road', 'addr_jibun', 'lat', 'lon', 'admin_nm', 'cctv_yn', 'cctv_cnt'],\n",
    "                          dtype={'type':object, 'name':object, 'addr_road':object, 'addr_jibun':object, 'lat':float, 'lon':float, 'admin_nm':object, 'cctv_yn':object, 'cctv_cnt':object }, \n",
    "                 encoding=\"EUC-KR\", \n",
    "                 delimiter=',' , #항목 구분자 '\\t'\n",
    "                 thousands = ',', #천단위 쉼표 제거   \n",
    "                 index_col=None) "
   ]
  },
  {
   "cell_type": "code",
   "execution_count": 7,
   "metadata": {},
   "outputs": [
    {
     "name": "stdout",
     "output_type": "stream",
     "text": [
      "<class 'pandas.core.frame.DataFrame'>\n",
      "RangeIndex: 17472 entries, 0 to 17471\n",
      "Data columns (total 9 columns):\n",
      " #   Column      Non-Null Count  Dtype  \n",
      "---  ------      --------------  -----  \n",
      " 0   type        17472 non-null  object \n",
      " 1   name        17472 non-null  object \n",
      " 2   addr_road   17421 non-null  object \n",
      " 3   addr_jibun  13815 non-null  object \n",
      " 4   lat         17468 non-null  float64\n",
      " 5   lon         17468 non-null  float64\n",
      " 6   admin_nm    17472 non-null  object \n",
      " 7   cctv_yn     17472 non-null  object \n",
      " 8   cctv_cnt    12766 non-null  object \n",
      "dtypes: float64(2), object(7)\n",
      "memory usage: 1.2+ MB\n"
     ]
    }
   ],
   "source": [
    "df_schoolzone.info() #데이터프레임 기본 정보 - 행수, 컬럼 정보 등. object(string), int, float"
   ]
  },
  {
   "cell_type": "code",
   "execution_count": 8,
   "metadata": {},
   "outputs": [
    {
     "data": {
      "text/html": [
       "<div>\n",
       "<style scoped>\n",
       "    .dataframe tbody tr th:only-of-type {\n",
       "        vertical-align: middle;\n",
       "    }\n",
       "\n",
       "    .dataframe tbody tr th {\n",
       "        vertical-align: top;\n",
       "    }\n",
       "\n",
       "    .dataframe thead th {\n",
       "        text-align: right;\n",
       "    }\n",
       "</style>\n",
       "<table border=\"1\" class=\"dataframe\">\n",
       "  <thead>\n",
       "    <tr style=\"text-align: right;\">\n",
       "      <th></th>\n",
       "      <th>type</th>\n",
       "      <th>name</th>\n",
       "      <th>addr_road</th>\n",
       "      <th>addr_jibun</th>\n",
       "      <th>lat</th>\n",
       "      <th>lon</th>\n",
       "      <th>admin_nm</th>\n",
       "      <th>cctv_yn</th>\n",
       "      <th>cctv_cnt</th>\n",
       "    </tr>\n",
       "  </thead>\n",
       "  <tbody>\n",
       "    <tr>\n",
       "      <th>0</th>\n",
       "      <td>어린이집</td>\n",
       "      <td>베스트어린이집</td>\n",
       "      <td>경기도 오산시 외삼미로 152번길 2(외삼미동)</td>\n",
       "      <td>경기도 오산시 외삼미동 158-4</td>\n",
       "      <td>37.197877</td>\n",
       "      <td>127.061423</td>\n",
       "      <td>경기도 오산시</td>\n",
       "      <td>Y</td>\n",
       "      <td>1</td>\n",
       "    </tr>\n",
       "    <tr>\n",
       "      <th>1</th>\n",
       "      <td>초등학교</td>\n",
       "      <td>낭성초등학교</td>\n",
       "      <td>충청북도 청주시 상당구 낭성면 낭성시내길 5</td>\n",
       "      <td>충청북도 청주시 상당구 낭성면 이목리 108-1</td>\n",
       "      <td>36.623674</td>\n",
       "      <td>127.601792</td>\n",
       "      <td>청주시</td>\n",
       "      <td>Y</td>\n",
       "      <td>3</td>\n",
       "    </tr>\n",
       "    <tr>\n",
       "      <th>2</th>\n",
       "      <td>초등학교</td>\n",
       "      <td>솔밭초교</td>\n",
       "      <td>충청북도 청주시 흥덕구 대농로 42 (복대동)</td>\n",
       "      <td>충청북도 청주시 흥덕구 복대동 288-9</td>\n",
       "      <td>36.641637</td>\n",
       "      <td>127.426091</td>\n",
       "      <td>청주시</td>\n",
       "      <td>Y</td>\n",
       "      <td>2</td>\n",
       "    </tr>\n",
       "    <tr>\n",
       "      <th>3</th>\n",
       "      <td>유치원</td>\n",
       "      <td>솔밭초교 병설유치원</td>\n",
       "      <td>충청북도 청주시 흥덕구 대농로 42 (복대동)</td>\n",
       "      <td>충청북도 청주시 흥덕구 복대동 288-9</td>\n",
       "      <td>36.641637</td>\n",
       "      <td>127.426091</td>\n",
       "      <td>청주시</td>\n",
       "      <td>Y</td>\n",
       "      <td>NaN</td>\n",
       "    </tr>\n",
       "    <tr>\n",
       "      <th>4</th>\n",
       "      <td>초등학교</td>\n",
       "      <td>운동초교</td>\n",
       "      <td>충청북도 청주시 상당구 목련로117번길 109</td>\n",
       "      <td>충청북도 청주시 상당구 용암동 2948</td>\n",
       "      <td>36.606536</td>\n",
       "      <td>127.512967</td>\n",
       "      <td>청주시</td>\n",
       "      <td>Y</td>\n",
       "      <td>7</td>\n",
       "    </tr>\n",
       "  </tbody>\n",
       "</table>\n",
       "</div>"
      ],
      "text/plain": [
       "   type        name                   addr_road                  addr_jibun  \\\n",
       "0  어린이집     베스트어린이집  경기도 오산시 외삼미로 152번길 2(외삼미동)          경기도 오산시 외삼미동 158-4   \n",
       "1  초등학교      낭성초등학교    충청북도 청주시 상당구 낭성면 낭성시내길 5  충청북도 청주시 상당구 낭성면 이목리 108-1   \n",
       "2  초등학교        솔밭초교   충청북도 청주시 흥덕구 대농로 42 (복대동)      충청북도 청주시 흥덕구 복대동 288-9   \n",
       "3   유치원  솔밭초교 병설유치원   충청북도 청주시 흥덕구 대농로 42 (복대동)      충청북도 청주시 흥덕구 복대동 288-9   \n",
       "4  초등학교        운동초교   충청북도 청주시 상당구 목련로117번길 109       충청북도 청주시 상당구 용암동 2948   \n",
       "\n",
       "         lat         lon admin_nm cctv_yn cctv_cnt  \n",
       "0  37.197877  127.061423  경기도 오산시       Y        1  \n",
       "1  36.623674  127.601792      청주시       Y        3  \n",
       "2  36.641637  127.426091      청주시       Y        2  \n",
       "3  36.641637  127.426091      청주시       Y      NaN  \n",
       "4  36.606536  127.512967      청주시       Y        7  "
      ]
     },
     "execution_count": 8,
     "metadata": {},
     "output_type": "execute_result"
    }
   ],
   "source": [
    "df_schoolzone.head() #맨 위의 5행 정보를 보여줌. 괄호안에 건수 지정 가능. 맨 아래 5건은 .tail()"
   ]
  },
  {
   "cell_type": "code",
   "execution_count": 9,
   "metadata": {},
   "outputs": [
    {
     "data": {
      "text/html": [
       "<div>\n",
       "<style scoped>\n",
       "    .dataframe tbody tr th:only-of-type {\n",
       "        vertical-align: middle;\n",
       "    }\n",
       "\n",
       "    .dataframe tbody tr th {\n",
       "        vertical-align: top;\n",
       "    }\n",
       "\n",
       "    .dataframe thead th {\n",
       "        text-align: right;\n",
       "    }\n",
       "</style>\n",
       "<table border=\"1\" class=\"dataframe\">\n",
       "  <thead>\n",
       "    <tr style=\"text-align: right;\">\n",
       "      <th></th>\n",
       "      <th>lat</th>\n",
       "      <th>lon</th>\n",
       "    </tr>\n",
       "  </thead>\n",
       "  <tbody>\n",
       "    <tr>\n",
       "      <th>count</th>\n",
       "      <td>17468.000000</td>\n",
       "      <td>17468.000000</td>\n",
       "    </tr>\n",
       "    <tr>\n",
       "      <th>mean</th>\n",
       "      <td>36.347662</td>\n",
       "      <td>127.628690</td>\n",
       "    </tr>\n",
       "    <tr>\n",
       "      <th>std</th>\n",
       "      <td>1.018121</td>\n",
       "      <td>0.868320</td>\n",
       "    </tr>\n",
       "    <tr>\n",
       "      <th>min</th>\n",
       "      <td>33.169167</td>\n",
       "      <td>124.661632</td>\n",
       "    </tr>\n",
       "    <tr>\n",
       "      <th>25%</th>\n",
       "      <td>35.553054</td>\n",
       "      <td>126.945156</td>\n",
       "    </tr>\n",
       "    <tr>\n",
       "      <th>50%</th>\n",
       "      <td>36.326048</td>\n",
       "      <td>127.324280</td>\n",
       "    </tr>\n",
       "    <tr>\n",
       "      <th>75%</th>\n",
       "      <td>37.357365</td>\n",
       "      <td>128.507033</td>\n",
       "    </tr>\n",
       "    <tr>\n",
       "      <th>max</th>\n",
       "      <td>38.542101</td>\n",
       "      <td>130.902800</td>\n",
       "    </tr>\n",
       "  </tbody>\n",
       "</table>\n",
       "</div>"
      ],
      "text/plain": [
       "                lat           lon\n",
       "count  17468.000000  17468.000000\n",
       "mean      36.347662    127.628690\n",
       "std        1.018121      0.868320\n",
       "min       33.169167    124.661632\n",
       "25%       35.553054    126.945156\n",
       "50%       36.326048    127.324280\n",
       "75%       37.357365    128.507033\n",
       "max       38.542101    130.902800"
      ]
     },
     "execution_count": 9,
     "metadata": {},
     "output_type": "execute_result"
    }
   ],
   "source": [
    "# 수치형 데이터 항목에 대해 건수, 산술평균, 표준편차, 최소, 분위별 값(25%, 50%-중앙값, 75%), 최대값 요약 통계 제공\n",
    "df_schoolzone.describe()"
   ]
  },
  {
   "cell_type": "markdown",
   "metadata": {},
   "source": [
    "Null 등으로 인해 문자열(object) 형식으로 인식된 CCTV 갯수(cctv_cnt) 항목에 대한 요약 통계가 궁금할 때"
   ]
  },
  {
   "cell_type": "code",
   "execution_count": 10,
   "metadata": {},
   "outputs": [
    {
     "data": {
      "text/plain": [
       "type             0\n",
       "name             0\n",
       "addr_road       51\n",
       "addr_jibun    3657\n",
       "lat              4\n",
       "lon              4\n",
       "admin_nm         0\n",
       "cctv_yn          0\n",
       "cctv_cnt      4706\n",
       "dtype: int64"
      ]
     },
     "execution_count": 10,
     "metadata": {},
     "output_type": "execute_result"
    }
   ],
   "source": [
    "# 데이터 항목별 Null 건수 체크\n",
    "df_schoolzone.isnull().sum()"
   ]
  },
  {
   "cell_type": "markdown",
   "metadata": {},
   "source": [
    "- 도로명주소와 지번주소 중에 어떤 것을 활용하는 것이 좋을까요? 특히, 대용량의 데이터여서 지오코딩 결과 건수를 검토할 수 없다면...  \n",
    "- 좌표가 없는 데이터...  \n",
    "- CCTV 건수 정보가 없는 데이터     \n",
    " : 결측치 비율은?   \n",
    " : CCTV 여부(cctv_yn)은 Y인데, 건수가 없는 것은?  "
   ]
  },
  {
   "cell_type": "code",
   "execution_count": 11,
   "metadata": {},
   "outputs": [
    {
     "name": "stdout",
     "output_type": "stream",
     "text": [
      "<class 'pandas.core.frame.DataFrame'>\n",
      "Int64Index: 17467 entries, 0 to 17471\n",
      "Data columns (total 9 columns):\n",
      " #   Column      Non-Null Count  Dtype  \n",
      "---  ------      --------------  -----  \n",
      " 0   type        17467 non-null  object \n",
      " 1   name        17467 non-null  object \n",
      " 2   addr_road   17416 non-null  object \n",
      " 3   addr_jibun  13810 non-null  object \n",
      " 4   lat         17467 non-null  float64\n",
      " 5   lon         17467 non-null  float64\n",
      " 6   admin_nm    17467 non-null  object \n",
      " 7   cctv_yn     17467 non-null  object \n",
      " 8   cctv_cnt    12763 non-null  object \n",
      "dtypes: float64(2), object(7)\n",
      "memory usage: 1.3+ MB\n"
     ]
    },
    {
     "data": {
      "text/html": [
       "<div>\n",
       "<style scoped>\n",
       "    .dataframe tbody tr th:only-of-type {\n",
       "        vertical-align: middle;\n",
       "    }\n",
       "\n",
       "    .dataframe tbody tr th {\n",
       "        vertical-align: top;\n",
       "    }\n",
       "\n",
       "    .dataframe thead th {\n",
       "        text-align: right;\n",
       "    }\n",
       "</style>\n",
       "<table border=\"1\" class=\"dataframe\">\n",
       "  <thead>\n",
       "    <tr style=\"text-align: right;\">\n",
       "      <th></th>\n",
       "      <th>type</th>\n",
       "      <th>name</th>\n",
       "      <th>addr_road</th>\n",
       "      <th>addr_jibun</th>\n",
       "      <th>lat</th>\n",
       "      <th>lon</th>\n",
       "      <th>admin_nm</th>\n",
       "      <th>cctv_yn</th>\n",
       "      <th>cctv_cnt</th>\n",
       "    </tr>\n",
       "  </thead>\n",
       "  <tbody>\n",
       "    <tr>\n",
       "      <th>0</th>\n",
       "      <td>어린이집</td>\n",
       "      <td>베스트어린이집</td>\n",
       "      <td>경기도 오산시 외삼미로 152번길 2(외삼미동)</td>\n",
       "      <td>경기도 오산시 외삼미동 158-4</td>\n",
       "      <td>37.197877</td>\n",
       "      <td>127.061423</td>\n",
       "      <td>경기도 오산시</td>\n",
       "      <td>Y</td>\n",
       "      <td>1</td>\n",
       "    </tr>\n",
       "    <tr>\n",
       "      <th>1</th>\n",
       "      <td>초등학교</td>\n",
       "      <td>낭성초등학교</td>\n",
       "      <td>충청북도 청주시 상당구 낭성면 낭성시내길 5</td>\n",
       "      <td>충청북도 청주시 상당구 낭성면 이목리 108-1</td>\n",
       "      <td>36.623674</td>\n",
       "      <td>127.601792</td>\n",
       "      <td>청주시</td>\n",
       "      <td>Y</td>\n",
       "      <td>3</td>\n",
       "    </tr>\n",
       "    <tr>\n",
       "      <th>2</th>\n",
       "      <td>초등학교</td>\n",
       "      <td>솔밭초교</td>\n",
       "      <td>충청북도 청주시 흥덕구 대농로 42 (복대동)</td>\n",
       "      <td>충청북도 청주시 흥덕구 복대동 288-9</td>\n",
       "      <td>36.641637</td>\n",
       "      <td>127.426091</td>\n",
       "      <td>청주시</td>\n",
       "      <td>Y</td>\n",
       "      <td>2</td>\n",
       "    </tr>\n",
       "    <tr>\n",
       "      <th>3</th>\n",
       "      <td>유치원</td>\n",
       "      <td>솔밭초교 병설유치원</td>\n",
       "      <td>충청북도 청주시 흥덕구 대농로 42 (복대동)</td>\n",
       "      <td>충청북도 청주시 흥덕구 복대동 288-9</td>\n",
       "      <td>36.641637</td>\n",
       "      <td>127.426091</td>\n",
       "      <td>청주시</td>\n",
       "      <td>Y</td>\n",
       "      <td>NaN</td>\n",
       "    </tr>\n",
       "    <tr>\n",
       "      <th>4</th>\n",
       "      <td>초등학교</td>\n",
       "      <td>운동초교</td>\n",
       "      <td>충청북도 청주시 상당구 목련로117번길 109</td>\n",
       "      <td>충청북도 청주시 상당구 용암동 2948</td>\n",
       "      <td>36.606536</td>\n",
       "      <td>127.512967</td>\n",
       "      <td>청주시</td>\n",
       "      <td>Y</td>\n",
       "      <td>7</td>\n",
       "    </tr>\n",
       "  </tbody>\n",
       "</table>\n",
       "</div>"
      ],
      "text/plain": [
       "   type        name                   addr_road                  addr_jibun  \\\n",
       "0  어린이집     베스트어린이집  경기도 오산시 외삼미로 152번길 2(외삼미동)          경기도 오산시 외삼미동 158-4   \n",
       "1  초등학교      낭성초등학교    충청북도 청주시 상당구 낭성면 낭성시내길 5  충청북도 청주시 상당구 낭성면 이목리 108-1   \n",
       "2  초등학교        솔밭초교   충청북도 청주시 흥덕구 대농로 42 (복대동)      충청북도 청주시 흥덕구 복대동 288-9   \n",
       "3   유치원  솔밭초교 병설유치원   충청북도 청주시 흥덕구 대농로 42 (복대동)      충청북도 청주시 흥덕구 복대동 288-9   \n",
       "4  초등학교        운동초교   충청북도 청주시 상당구 목련로117번길 109       충청북도 청주시 상당구 용암동 2948   \n",
       "\n",
       "         lat         lon admin_nm cctv_yn cctv_cnt  \n",
       "0  37.197877  127.061423  경기도 오산시       Y        1  \n",
       "1  36.623674  127.601792      청주시       Y        3  \n",
       "2  36.641637  127.426091      청주시       Y        2  \n",
       "3  36.641637  127.426091      청주시       Y      NaN  \n",
       "4  36.606536  127.512967      청주시       Y        7  "
      ]
     },
     "execution_count": 11,
     "metadata": {},
     "output_type": "execute_result"
    }
   ],
   "source": [
    "#좌표값 없는 데이터 제거\n",
    "df_schoolzone2 = df_schoolzone[ (df_schoolzone['lat'] > 0) & (df_schoolzone['lon'] > 0) ]\n",
    "df_schoolzone2.info()\n",
    "df_schoolzone2.head()"
   ]
  },
  {
   "cell_type": "code",
   "execution_count": 12,
   "metadata": {},
   "outputs": [
    {
     "name": "stderr",
     "output_type": "stream",
     "text": [
      "C:\\Users\\dhl\\anaconda3\\lib\\site-packages\\pandas\\core\\series.py:4517: SettingWithCopyWarning: \n",
      "A value is trying to be set on a copy of a slice from a DataFrame\n",
      "\n",
      "See the caveats in the documentation: https://pandas.pydata.org/pandas-docs/stable/user_guide/indexing.html#returning-a-view-versus-a-copy\n",
      "  return super().fillna(\n"
     ]
    },
    {
     "data": {
      "text/html": [
       "<div>\n",
       "<style scoped>\n",
       "    .dataframe tbody tr th:only-of-type {\n",
       "        vertical-align: middle;\n",
       "    }\n",
       "\n",
       "    .dataframe tbody tr th {\n",
       "        vertical-align: top;\n",
       "    }\n",
       "\n",
       "    .dataframe thead th {\n",
       "        text-align: right;\n",
       "    }\n",
       "</style>\n",
       "<table border=\"1\" class=\"dataframe\">\n",
       "  <thead>\n",
       "    <tr style=\"text-align: right;\">\n",
       "      <th></th>\n",
       "      <th>type</th>\n",
       "      <th>name</th>\n",
       "      <th>addr_road</th>\n",
       "      <th>addr_jibun</th>\n",
       "      <th>lat</th>\n",
       "      <th>lon</th>\n",
       "      <th>admin_nm</th>\n",
       "      <th>cctv_yn</th>\n",
       "      <th>cctv_cnt</th>\n",
       "    </tr>\n",
       "  </thead>\n",
       "  <tbody>\n",
       "    <tr>\n",
       "      <th>0</th>\n",
       "      <td>어린이집</td>\n",
       "      <td>베스트어린이집</td>\n",
       "      <td>경기도 오산시 외삼미로 152번길 2(외삼미동)</td>\n",
       "      <td>경기도 오산시 외삼미동 158-4</td>\n",
       "      <td>37.197877</td>\n",
       "      <td>127.061423</td>\n",
       "      <td>경기도 오산시</td>\n",
       "      <td>Y</td>\n",
       "      <td>1</td>\n",
       "    </tr>\n",
       "    <tr>\n",
       "      <th>1</th>\n",
       "      <td>초등학교</td>\n",
       "      <td>낭성초등학교</td>\n",
       "      <td>충청북도 청주시 상당구 낭성면 낭성시내길 5</td>\n",
       "      <td>충청북도 청주시 상당구 낭성면 이목리 108-1</td>\n",
       "      <td>36.623674</td>\n",
       "      <td>127.601792</td>\n",
       "      <td>청주시</td>\n",
       "      <td>Y</td>\n",
       "      <td>3</td>\n",
       "    </tr>\n",
       "    <tr>\n",
       "      <th>2</th>\n",
       "      <td>초등학교</td>\n",
       "      <td>솔밭초교</td>\n",
       "      <td>충청북도 청주시 흥덕구 대농로 42 (복대동)</td>\n",
       "      <td>충청북도 청주시 흥덕구 복대동 288-9</td>\n",
       "      <td>36.641637</td>\n",
       "      <td>127.426091</td>\n",
       "      <td>청주시</td>\n",
       "      <td>Y</td>\n",
       "      <td>2</td>\n",
       "    </tr>\n",
       "    <tr>\n",
       "      <th>3</th>\n",
       "      <td>유치원</td>\n",
       "      <td>솔밭초교 병설유치원</td>\n",
       "      <td>충청북도 청주시 흥덕구 대농로 42 (복대동)</td>\n",
       "      <td>충청북도 청주시 흥덕구 복대동 288-9</td>\n",
       "      <td>36.641637</td>\n",
       "      <td>127.426091</td>\n",
       "      <td>청주시</td>\n",
       "      <td>Y</td>\n",
       "      <td>0</td>\n",
       "    </tr>\n",
       "    <tr>\n",
       "      <th>4</th>\n",
       "      <td>초등학교</td>\n",
       "      <td>운동초교</td>\n",
       "      <td>충청북도 청주시 상당구 목련로117번길 109</td>\n",
       "      <td>충청북도 청주시 상당구 용암동 2948</td>\n",
       "      <td>36.606536</td>\n",
       "      <td>127.512967</td>\n",
       "      <td>청주시</td>\n",
       "      <td>Y</td>\n",
       "      <td>7</td>\n",
       "    </tr>\n",
       "  </tbody>\n",
       "</table>\n",
       "</div>"
      ],
      "text/plain": [
       "   type        name                   addr_road                  addr_jibun  \\\n",
       "0  어린이집     베스트어린이집  경기도 오산시 외삼미로 152번길 2(외삼미동)          경기도 오산시 외삼미동 158-4   \n",
       "1  초등학교      낭성초등학교    충청북도 청주시 상당구 낭성면 낭성시내길 5  충청북도 청주시 상당구 낭성면 이목리 108-1   \n",
       "2  초등학교        솔밭초교   충청북도 청주시 흥덕구 대농로 42 (복대동)      충청북도 청주시 흥덕구 복대동 288-9   \n",
       "3   유치원  솔밭초교 병설유치원   충청북도 청주시 흥덕구 대농로 42 (복대동)      충청북도 청주시 흥덕구 복대동 288-9   \n",
       "4  초등학교        운동초교   충청북도 청주시 상당구 목련로117번길 109       충청북도 청주시 상당구 용암동 2948   \n",
       "\n",
       "         lat         lon admin_nm cctv_yn cctv_cnt  \n",
       "0  37.197877  127.061423  경기도 오산시       Y        1  \n",
       "1  36.623674  127.601792      청주시       Y        3  \n",
       "2  36.641637  127.426091      청주시       Y        2  \n",
       "3  36.641637  127.426091      청주시       Y        0  \n",
       "4  36.606536  127.512967      청주시       Y        7  "
      ]
     },
     "execution_count": 12,
     "metadata": {},
     "output_type": "execute_result"
    }
   ],
   "source": [
    "#df_schoolzone2.fillna(0, inplace=True)   #null을 0으로 일괄 대체\n",
    "df_schoolzone2['cctv_cnt'].fillna(0, inplace=True) \n",
    "df_schoolzone2.head()"
   ]
  },
  {
   "cell_type": "code",
   "execution_count": 13,
   "metadata": {},
   "outputs": [
    {
     "name": "stderr",
     "output_type": "stream",
     "text": [
      "<ipython-input-13-acd0b1c32b5c>:1: SettingWithCopyWarning: \n",
      "A value is trying to be set on a copy of a slice from a DataFrame.\n",
      "Try using .loc[row_indexer,col_indexer] = value instead\n",
      "\n",
      "See the caveats in the documentation: https://pandas.pydata.org/pandas-docs/stable/user_guide/indexing.html#returning-a-view-versus-a-copy\n",
      "  df_schoolzone2['cctv_cnt2'] = df_schoolzone2['cctv_cnt'].astype(int)  #cctv_cnt 항목을 정수형 타입으로 변환\n"
     ]
    },
    {
     "data": {
      "text/html": [
       "<div>\n",
       "<style scoped>\n",
       "    .dataframe tbody tr th:only-of-type {\n",
       "        vertical-align: middle;\n",
       "    }\n",
       "\n",
       "    .dataframe tbody tr th {\n",
       "        vertical-align: top;\n",
       "    }\n",
       "\n",
       "    .dataframe thead th {\n",
       "        text-align: right;\n",
       "    }\n",
       "</style>\n",
       "<table border=\"1\" class=\"dataframe\">\n",
       "  <thead>\n",
       "    <tr style=\"text-align: right;\">\n",
       "      <th></th>\n",
       "      <th>type</th>\n",
       "      <th>name</th>\n",
       "      <th>addr_road</th>\n",
       "      <th>addr_jibun</th>\n",
       "      <th>lat</th>\n",
       "      <th>lon</th>\n",
       "      <th>admin_nm</th>\n",
       "      <th>cctv_yn</th>\n",
       "      <th>cctv_cnt</th>\n",
       "      <th>cctv_cnt2</th>\n",
       "    </tr>\n",
       "  </thead>\n",
       "  <tbody>\n",
       "    <tr>\n",
       "      <th>0</th>\n",
       "      <td>어린이집</td>\n",
       "      <td>베스트어린이집</td>\n",
       "      <td>경기도 오산시 외삼미로 152번길 2(외삼미동)</td>\n",
       "      <td>경기도 오산시 외삼미동 158-4</td>\n",
       "      <td>37.197877</td>\n",
       "      <td>127.061423</td>\n",
       "      <td>경기도 오산시</td>\n",
       "      <td>Y</td>\n",
       "      <td>1</td>\n",
       "      <td>1</td>\n",
       "    </tr>\n",
       "    <tr>\n",
       "      <th>1</th>\n",
       "      <td>초등학교</td>\n",
       "      <td>낭성초등학교</td>\n",
       "      <td>충청북도 청주시 상당구 낭성면 낭성시내길 5</td>\n",
       "      <td>충청북도 청주시 상당구 낭성면 이목리 108-1</td>\n",
       "      <td>36.623674</td>\n",
       "      <td>127.601792</td>\n",
       "      <td>청주시</td>\n",
       "      <td>Y</td>\n",
       "      <td>3</td>\n",
       "      <td>3</td>\n",
       "    </tr>\n",
       "    <tr>\n",
       "      <th>2</th>\n",
       "      <td>초등학교</td>\n",
       "      <td>솔밭초교</td>\n",
       "      <td>충청북도 청주시 흥덕구 대농로 42 (복대동)</td>\n",
       "      <td>충청북도 청주시 흥덕구 복대동 288-9</td>\n",
       "      <td>36.641637</td>\n",
       "      <td>127.426091</td>\n",
       "      <td>청주시</td>\n",
       "      <td>Y</td>\n",
       "      <td>2</td>\n",
       "      <td>2</td>\n",
       "    </tr>\n",
       "    <tr>\n",
       "      <th>3</th>\n",
       "      <td>유치원</td>\n",
       "      <td>솔밭초교 병설유치원</td>\n",
       "      <td>충청북도 청주시 흥덕구 대농로 42 (복대동)</td>\n",
       "      <td>충청북도 청주시 흥덕구 복대동 288-9</td>\n",
       "      <td>36.641637</td>\n",
       "      <td>127.426091</td>\n",
       "      <td>청주시</td>\n",
       "      <td>Y</td>\n",
       "      <td>0</td>\n",
       "      <td>0</td>\n",
       "    </tr>\n",
       "    <tr>\n",
       "      <th>4</th>\n",
       "      <td>초등학교</td>\n",
       "      <td>운동초교</td>\n",
       "      <td>충청북도 청주시 상당구 목련로117번길 109</td>\n",
       "      <td>충청북도 청주시 상당구 용암동 2948</td>\n",
       "      <td>36.606536</td>\n",
       "      <td>127.512967</td>\n",
       "      <td>청주시</td>\n",
       "      <td>Y</td>\n",
       "      <td>7</td>\n",
       "      <td>7</td>\n",
       "    </tr>\n",
       "  </tbody>\n",
       "</table>\n",
       "</div>"
      ],
      "text/plain": [
       "   type        name                   addr_road                  addr_jibun  \\\n",
       "0  어린이집     베스트어린이집  경기도 오산시 외삼미로 152번길 2(외삼미동)          경기도 오산시 외삼미동 158-4   \n",
       "1  초등학교      낭성초등학교    충청북도 청주시 상당구 낭성면 낭성시내길 5  충청북도 청주시 상당구 낭성면 이목리 108-1   \n",
       "2  초등학교        솔밭초교   충청북도 청주시 흥덕구 대농로 42 (복대동)      충청북도 청주시 흥덕구 복대동 288-9   \n",
       "3   유치원  솔밭초교 병설유치원   충청북도 청주시 흥덕구 대농로 42 (복대동)      충청북도 청주시 흥덕구 복대동 288-9   \n",
       "4  초등학교        운동초교   충청북도 청주시 상당구 목련로117번길 109       충청북도 청주시 상당구 용암동 2948   \n",
       "\n",
       "         lat         lon admin_nm cctv_yn cctv_cnt  cctv_cnt2  \n",
       "0  37.197877  127.061423  경기도 오산시       Y        1          1  \n",
       "1  36.623674  127.601792      청주시       Y        3          3  \n",
       "2  36.641637  127.426091      청주시       Y        2          2  \n",
       "3  36.641637  127.426091      청주시       Y        0          0  \n",
       "4  36.606536  127.512967      청주시       Y        7          7  "
      ]
     },
     "execution_count": 13,
     "metadata": {},
     "output_type": "execute_result"
    }
   ],
   "source": [
    "df_schoolzone2['cctv_cnt2'] = df_schoolzone2['cctv_cnt'].astype(int)  #cctv_cnt 항목을 정수형 타입으로 변환\n",
    "df_schoolzone2.head()"
   ]
  },
  {
   "cell_type": "code",
   "execution_count": 14,
   "metadata": {},
   "outputs": [
    {
     "data": {
      "text/html": [
       "<div>\n",
       "<style scoped>\n",
       "    .dataframe tbody tr th:only-of-type {\n",
       "        vertical-align: middle;\n",
       "    }\n",
       "\n",
       "    .dataframe tbody tr th {\n",
       "        vertical-align: top;\n",
       "    }\n",
       "\n",
       "    .dataframe thead th {\n",
       "        text-align: right;\n",
       "    }\n",
       "</style>\n",
       "<table border=\"1\" class=\"dataframe\">\n",
       "  <thead>\n",
       "    <tr style=\"text-align: right;\">\n",
       "      <th></th>\n",
       "      <th>lat</th>\n",
       "      <th>lon</th>\n",
       "      <th>cctv_cnt2</th>\n",
       "    </tr>\n",
       "  </thead>\n",
       "  <tbody>\n",
       "    <tr>\n",
       "      <th>count</th>\n",
       "      <td>17467.000000</td>\n",
       "      <td>17467.000000</td>\n",
       "      <td>17467.000000</td>\n",
       "    </tr>\n",
       "    <tr>\n",
       "      <th>mean</th>\n",
       "      <td>36.347590</td>\n",
       "      <td>127.628665</td>\n",
       "      <td>1.891452</td>\n",
       "    </tr>\n",
       "    <tr>\n",
       "      <th>std</th>\n",
       "      <td>1.018106</td>\n",
       "      <td>0.868339</td>\n",
       "      <td>2.614669</td>\n",
       "    </tr>\n",
       "    <tr>\n",
       "      <th>min</th>\n",
       "      <td>33.169167</td>\n",
       "      <td>124.661632</td>\n",
       "      <td>0.000000</td>\n",
       "    </tr>\n",
       "    <tr>\n",
       "      <th>25%</th>\n",
       "      <td>35.553054</td>\n",
       "      <td>126.945156</td>\n",
       "      <td>0.000000</td>\n",
       "    </tr>\n",
       "    <tr>\n",
       "      <th>50%</th>\n",
       "      <td>36.326031</td>\n",
       "      <td>127.324280</td>\n",
       "      <td>1.000000</td>\n",
       "    </tr>\n",
       "    <tr>\n",
       "      <th>75%</th>\n",
       "      <td>37.357263</td>\n",
       "      <td>128.507118</td>\n",
       "      <td>3.000000</td>\n",
       "    </tr>\n",
       "    <tr>\n",
       "      <th>max</th>\n",
       "      <td>38.542101</td>\n",
       "      <td>130.902800</td>\n",
       "      <td>46.000000</td>\n",
       "    </tr>\n",
       "  </tbody>\n",
       "</table>\n",
       "</div>"
      ],
      "text/plain": [
       "                lat           lon     cctv_cnt2\n",
       "count  17467.000000  17467.000000  17467.000000\n",
       "mean      36.347590    127.628665      1.891452\n",
       "std        1.018106      0.868339      2.614669\n",
       "min       33.169167    124.661632      0.000000\n",
       "25%       35.553054    126.945156      0.000000\n",
       "50%       36.326031    127.324280      1.000000\n",
       "75%       37.357263    128.507118      3.000000\n",
       "max       38.542101    130.902800     46.000000"
      ]
     },
     "execution_count": 14,
     "metadata": {},
     "output_type": "execute_result"
    }
   ],
   "source": [
    "df_schoolzone2.describe()"
   ]
  },
  {
   "cell_type": "code",
   "execution_count": 15,
   "metadata": {},
   "outputs": [
    {
     "name": "stdout",
     "output_type": "stream",
     "text": [
      "<class 'pandas.core.frame.DataFrame'>\n",
      "Int64Index: 17467 entries, 0 to 17471\n",
      "Data columns (total 10 columns):\n",
      " #   Column      Non-Null Count  Dtype  \n",
      "---  ------      --------------  -----  \n",
      " 0   type        17467 non-null  object \n",
      " 1   name        17467 non-null  object \n",
      " 2   addr_road   17416 non-null  object \n",
      " 3   addr_jibun  13810 non-null  object \n",
      " 4   lat         17467 non-null  float64\n",
      " 5   lon         17467 non-null  float64\n",
      " 6   admin_nm    17467 non-null  object \n",
      " 7   cctv_yn     17467 non-null  object \n",
      " 8   cctv_cnt    17467 non-null  object \n",
      " 9   cctv_cnt2   17467 non-null  int32  \n",
      "dtypes: float64(2), int32(1), object(7)\n",
      "memory usage: 1.4+ MB\n"
     ]
    }
   ],
   "source": [
    "df_schoolzone2.info()"
   ]
  },
  {
   "cell_type": "code",
   "execution_count": 16,
   "metadata": {},
   "outputs": [
    {
     "data": {
      "text/html": [
       "<div>\n",
       "<style scoped>\n",
       "    .dataframe tbody tr th:only-of-type {\n",
       "        vertical-align: middle;\n",
       "    }\n",
       "\n",
       "    .dataframe tbody tr th {\n",
       "        vertical-align: top;\n",
       "    }\n",
       "\n",
       "    .dataframe thead th {\n",
       "        text-align: right;\n",
       "    }\n",
       "</style>\n",
       "<table border=\"1\" class=\"dataframe\">\n",
       "  <thead>\n",
       "    <tr style=\"text-align: right;\">\n",
       "      <th></th>\n",
       "      <th>type</th>\n",
       "      <th>name</th>\n",
       "      <th>addr_road</th>\n",
       "      <th>addr_jibun</th>\n",
       "      <th>lat</th>\n",
       "      <th>lon</th>\n",
       "      <th>admin_nm</th>\n",
       "      <th>cctv_yn</th>\n",
       "      <th>cctv_cnt</th>\n",
       "      <th>cctv_cnt2</th>\n",
       "    </tr>\n",
       "  </thead>\n",
       "  <tbody>\n",
       "    <tr>\n",
       "      <th>0</th>\n",
       "      <td>어린이집</td>\n",
       "      <td>베스트어린이집</td>\n",
       "      <td>경기도 오산시 외삼미로 152번길 2(외삼미동)</td>\n",
       "      <td>경기도 오산시 외삼미동 158-4</td>\n",
       "      <td>37.197877</td>\n",
       "      <td>127.061423</td>\n",
       "      <td>경기도 오산시</td>\n",
       "      <td>Y</td>\n",
       "      <td>1</td>\n",
       "      <td>1</td>\n",
       "    </tr>\n",
       "    <tr>\n",
       "      <th>1</th>\n",
       "      <td>초등학교</td>\n",
       "      <td>낭성초등학교</td>\n",
       "      <td>충청북도 청주시 상당구 낭성면 낭성시내길 5</td>\n",
       "      <td>충청북도 청주시 상당구 낭성면 이목리 108-1</td>\n",
       "      <td>36.623674</td>\n",
       "      <td>127.601792</td>\n",
       "      <td>청주시</td>\n",
       "      <td>Y</td>\n",
       "      <td>3</td>\n",
       "      <td>3</td>\n",
       "    </tr>\n",
       "    <tr>\n",
       "      <th>2</th>\n",
       "      <td>초등학교</td>\n",
       "      <td>솔밭초교</td>\n",
       "      <td>충청북도 청주시 흥덕구 대농로 42 (복대동)</td>\n",
       "      <td>충청북도 청주시 흥덕구 복대동 288-9</td>\n",
       "      <td>36.641637</td>\n",
       "      <td>127.426091</td>\n",
       "      <td>청주시</td>\n",
       "      <td>Y</td>\n",
       "      <td>2</td>\n",
       "      <td>2</td>\n",
       "    </tr>\n",
       "    <tr>\n",
       "      <th>3</th>\n",
       "      <td>유치원</td>\n",
       "      <td>솔밭초교 병설유치원</td>\n",
       "      <td>충청북도 청주시 흥덕구 대농로 42 (복대동)</td>\n",
       "      <td>충청북도 청주시 흥덕구 복대동 288-9</td>\n",
       "      <td>36.641637</td>\n",
       "      <td>127.426091</td>\n",
       "      <td>청주시</td>\n",
       "      <td>Y</td>\n",
       "      <td>0</td>\n",
       "      <td>0</td>\n",
       "    </tr>\n",
       "    <tr>\n",
       "      <th>4</th>\n",
       "      <td>초등학교</td>\n",
       "      <td>운동초교</td>\n",
       "      <td>충청북도 청주시 상당구 목련로117번길 109</td>\n",
       "      <td>충청북도 청주시 상당구 용암동 2948</td>\n",
       "      <td>36.606536</td>\n",
       "      <td>127.512967</td>\n",
       "      <td>청주시</td>\n",
       "      <td>Y</td>\n",
       "      <td>7</td>\n",
       "      <td>7</td>\n",
       "    </tr>\n",
       "  </tbody>\n",
       "</table>\n",
       "</div>"
      ],
      "text/plain": [
       "   type        name                   addr_road                  addr_jibun  \\\n",
       "0  어린이집     베스트어린이집  경기도 오산시 외삼미로 152번길 2(외삼미동)          경기도 오산시 외삼미동 158-4   \n",
       "1  초등학교      낭성초등학교    충청북도 청주시 상당구 낭성면 낭성시내길 5  충청북도 청주시 상당구 낭성면 이목리 108-1   \n",
       "2  초등학교        솔밭초교   충청북도 청주시 흥덕구 대농로 42 (복대동)      충청북도 청주시 흥덕구 복대동 288-9   \n",
       "3   유치원  솔밭초교 병설유치원   충청북도 청주시 흥덕구 대농로 42 (복대동)      충청북도 청주시 흥덕구 복대동 288-9   \n",
       "4  초등학교        운동초교   충청북도 청주시 상당구 목련로117번길 109       충청북도 청주시 상당구 용암동 2948   \n",
       "\n",
       "         lat         lon admin_nm cctv_yn cctv_cnt  cctv_cnt2  \n",
       "0  37.197877  127.061423  경기도 오산시       Y        1          1  \n",
       "1  36.623674  127.601792      청주시       Y        3          3  \n",
       "2  36.641637  127.426091      청주시       Y        2          2  \n",
       "3  36.641637  127.426091      청주시       Y        0          0  \n",
       "4  36.606536  127.512967      청주시       Y        7          7  "
      ]
     },
     "execution_count": 16,
     "metadata": {},
     "output_type": "execute_result"
    }
   ],
   "source": [
    "df_schoolzone2.head()"
   ]
  },
  {
   "cell_type": "code",
   "execution_count": 17,
   "metadata": {},
   "outputs": [
    {
     "name": "stderr",
     "output_type": "stream",
     "text": [
      "<ipython-input-17-99b8a46c3d24>:4: SettingWithCopyWarning: \n",
      "A value is trying to be set on a copy of a slice from a DataFrame.\n",
      "Try using .loc[row_indexer,col_indexer] = value instead\n",
      "\n",
      "See the caveats in the documentation: https://pandas.pydata.org/pandas-docs/stable/user_guide/indexing.html#returning-a-view-versus-a-copy\n",
      "  df_schoolzone2['cctv_cnt'] = np.where(((df_schoolzone2['cctv_yn'].str.contains('Y')==True) & (df_schoolzone2['cctv_cnt']== 0)), 1, df_schoolzone2['cctv_cnt'])\n"
     ]
    }
   ],
   "source": [
    "#CCTV 여부(cctv_yn)은 Y이고, 건수가 0인 데이터의 CCTV_CNT를 1로 일괄 적용. \n",
    "#np.where(조건,   조건에 맞을 때 값,    조건과 다를 때 값)\n",
    "import numpy as np\n",
    "df_schoolzone2['cctv_cnt'] = np.where(((df_schoolzone2['cctv_yn'].str.contains('Y')==True) & (df_schoolzone2['cctv_cnt']== 0)), 1, df_schoolzone2['cctv_cnt'])"
   ]
  },
  {
   "cell_type": "code",
   "execution_count": 18,
   "metadata": {},
   "outputs": [
    {
     "data": {
      "text/html": [
       "<div>\n",
       "<style scoped>\n",
       "    .dataframe tbody tr th:only-of-type {\n",
       "        vertical-align: middle;\n",
       "    }\n",
       "\n",
       "    .dataframe tbody tr th {\n",
       "        vertical-align: top;\n",
       "    }\n",
       "\n",
       "    .dataframe thead th {\n",
       "        text-align: right;\n",
       "    }\n",
       "</style>\n",
       "<table border=\"1\" class=\"dataframe\">\n",
       "  <thead>\n",
       "    <tr style=\"text-align: right;\">\n",
       "      <th></th>\n",
       "      <th>type</th>\n",
       "      <th>name</th>\n",
       "      <th>addr_road</th>\n",
       "      <th>addr_jibun</th>\n",
       "      <th>lat</th>\n",
       "      <th>lon</th>\n",
       "      <th>admin_nm</th>\n",
       "      <th>cctv_yn</th>\n",
       "      <th>cctv_cnt</th>\n",
       "      <th>cctv_cnt2</th>\n",
       "    </tr>\n",
       "  </thead>\n",
       "  <tbody>\n",
       "    <tr>\n",
       "      <th>0</th>\n",
       "      <td>어린이집</td>\n",
       "      <td>베스트어린이집</td>\n",
       "      <td>경기도 오산시 외삼미로 152번길 2(외삼미동)</td>\n",
       "      <td>경기도 오산시 외삼미동 158-4</td>\n",
       "      <td>37.197877</td>\n",
       "      <td>127.061423</td>\n",
       "      <td>경기도 오산시</td>\n",
       "      <td>Y</td>\n",
       "      <td>1</td>\n",
       "      <td>1</td>\n",
       "    </tr>\n",
       "    <tr>\n",
       "      <th>1</th>\n",
       "      <td>초등학교</td>\n",
       "      <td>낭성초등학교</td>\n",
       "      <td>충청북도 청주시 상당구 낭성면 낭성시내길 5</td>\n",
       "      <td>충청북도 청주시 상당구 낭성면 이목리 108-1</td>\n",
       "      <td>36.623674</td>\n",
       "      <td>127.601792</td>\n",
       "      <td>청주시</td>\n",
       "      <td>Y</td>\n",
       "      <td>3</td>\n",
       "      <td>3</td>\n",
       "    </tr>\n",
       "    <tr>\n",
       "      <th>2</th>\n",
       "      <td>초등학교</td>\n",
       "      <td>솔밭초교</td>\n",
       "      <td>충청북도 청주시 흥덕구 대농로 42 (복대동)</td>\n",
       "      <td>충청북도 청주시 흥덕구 복대동 288-9</td>\n",
       "      <td>36.641637</td>\n",
       "      <td>127.426091</td>\n",
       "      <td>청주시</td>\n",
       "      <td>Y</td>\n",
       "      <td>2</td>\n",
       "      <td>2</td>\n",
       "    </tr>\n",
       "    <tr>\n",
       "      <th>3</th>\n",
       "      <td>유치원</td>\n",
       "      <td>솔밭초교 병설유치원</td>\n",
       "      <td>충청북도 청주시 흥덕구 대농로 42 (복대동)</td>\n",
       "      <td>충청북도 청주시 흥덕구 복대동 288-9</td>\n",
       "      <td>36.641637</td>\n",
       "      <td>127.426091</td>\n",
       "      <td>청주시</td>\n",
       "      <td>Y</td>\n",
       "      <td>1</td>\n",
       "      <td>0</td>\n",
       "    </tr>\n",
       "    <tr>\n",
       "      <th>4</th>\n",
       "      <td>초등학교</td>\n",
       "      <td>운동초교</td>\n",
       "      <td>충청북도 청주시 상당구 목련로117번길 109</td>\n",
       "      <td>충청북도 청주시 상당구 용암동 2948</td>\n",
       "      <td>36.606536</td>\n",
       "      <td>127.512967</td>\n",
       "      <td>청주시</td>\n",
       "      <td>Y</td>\n",
       "      <td>7</td>\n",
       "      <td>7</td>\n",
       "    </tr>\n",
       "  </tbody>\n",
       "</table>\n",
       "</div>"
      ],
      "text/plain": [
       "   type        name                   addr_road                  addr_jibun  \\\n",
       "0  어린이집     베스트어린이집  경기도 오산시 외삼미로 152번길 2(외삼미동)          경기도 오산시 외삼미동 158-4   \n",
       "1  초등학교      낭성초등학교    충청북도 청주시 상당구 낭성면 낭성시내길 5  충청북도 청주시 상당구 낭성면 이목리 108-1   \n",
       "2  초등학교        솔밭초교   충청북도 청주시 흥덕구 대농로 42 (복대동)      충청북도 청주시 흥덕구 복대동 288-9   \n",
       "3   유치원  솔밭초교 병설유치원   충청북도 청주시 흥덕구 대농로 42 (복대동)      충청북도 청주시 흥덕구 복대동 288-9   \n",
       "4  초등학교        운동초교   충청북도 청주시 상당구 목련로117번길 109       충청북도 청주시 상당구 용암동 2948   \n",
       "\n",
       "         lat         lon admin_nm cctv_yn cctv_cnt  cctv_cnt2  \n",
       "0  37.197877  127.061423  경기도 오산시       Y        1          1  \n",
       "1  36.623674  127.601792      청주시       Y        3          3  \n",
       "2  36.641637  127.426091      청주시       Y        2          2  \n",
       "3  36.641637  127.426091      청주시       Y        1          0  \n",
       "4  36.606536  127.512967      청주시       Y        7          7  "
      ]
     },
     "execution_count": 18,
     "metadata": {},
     "output_type": "execute_result"
    }
   ],
   "source": [
    "df_schoolzone2.head()"
   ]
  },
  {
   "cell_type": "code",
   "execution_count": 19,
   "metadata": {},
   "outputs": [
    {
     "data": {
      "text/html": [
       "<div>\n",
       "<style scoped>\n",
       "    .dataframe tbody tr th:only-of-type {\n",
       "        vertical-align: middle;\n",
       "    }\n",
       "\n",
       "    .dataframe tbody tr th {\n",
       "        vertical-align: top;\n",
       "    }\n",
       "\n",
       "    .dataframe thead th {\n",
       "        text-align: right;\n",
       "    }\n",
       "</style>\n",
       "<table border=\"1\" class=\"dataframe\">\n",
       "  <thead>\n",
       "    <tr style=\"text-align: right;\">\n",
       "      <th></th>\n",
       "      <th>lat</th>\n",
       "      <th>lon</th>\n",
       "      <th>cctv_cnt2</th>\n",
       "    </tr>\n",
       "  </thead>\n",
       "  <tbody>\n",
       "    <tr>\n",
       "      <th>count</th>\n",
       "      <td>17467.000000</td>\n",
       "      <td>17467.000000</td>\n",
       "      <td>17467.000000</td>\n",
       "    </tr>\n",
       "    <tr>\n",
       "      <th>mean</th>\n",
       "      <td>36.347590</td>\n",
       "      <td>127.628665</td>\n",
       "      <td>1.891452</td>\n",
       "    </tr>\n",
       "    <tr>\n",
       "      <th>std</th>\n",
       "      <td>1.018106</td>\n",
       "      <td>0.868339</td>\n",
       "      <td>2.614669</td>\n",
       "    </tr>\n",
       "    <tr>\n",
       "      <th>min</th>\n",
       "      <td>33.169167</td>\n",
       "      <td>124.661632</td>\n",
       "      <td>0.000000</td>\n",
       "    </tr>\n",
       "    <tr>\n",
       "      <th>25%</th>\n",
       "      <td>35.553054</td>\n",
       "      <td>126.945156</td>\n",
       "      <td>0.000000</td>\n",
       "    </tr>\n",
       "    <tr>\n",
       "      <th>50%</th>\n",
       "      <td>36.326031</td>\n",
       "      <td>127.324280</td>\n",
       "      <td>1.000000</td>\n",
       "    </tr>\n",
       "    <tr>\n",
       "      <th>75%</th>\n",
       "      <td>37.357263</td>\n",
       "      <td>128.507118</td>\n",
       "      <td>3.000000</td>\n",
       "    </tr>\n",
       "    <tr>\n",
       "      <th>max</th>\n",
       "      <td>38.542101</td>\n",
       "      <td>130.902800</td>\n",
       "      <td>46.000000</td>\n",
       "    </tr>\n",
       "  </tbody>\n",
       "</table>\n",
       "</div>"
      ],
      "text/plain": [
       "                lat           lon     cctv_cnt2\n",
       "count  17467.000000  17467.000000  17467.000000\n",
       "mean      36.347590    127.628665      1.891452\n",
       "std        1.018106      0.868339      2.614669\n",
       "min       33.169167    124.661632      0.000000\n",
       "25%       35.553054    126.945156      0.000000\n",
       "50%       36.326031    127.324280      1.000000\n",
       "75%       37.357263    128.507118      3.000000\n",
       "max       38.542101    130.902800     46.000000"
      ]
     },
     "execution_count": 19,
     "metadata": {},
     "output_type": "execute_result"
    }
   ],
   "source": [
    "df_schoolzone2.describe()"
   ]
  },
  {
   "cell_type": "code",
   "execution_count": 22,
   "metadata": {},
   "outputs": [
    {
     "data": {
      "text/html": [
       "<div>\n",
       "<style scoped>\n",
       "    .dataframe tbody tr th:only-of-type {\n",
       "        vertical-align: middle;\n",
       "    }\n",
       "\n",
       "    .dataframe tbody tr th {\n",
       "        vertical-align: top;\n",
       "    }\n",
       "\n",
       "    .dataframe thead th {\n",
       "        text-align: right;\n",
       "    }\n",
       "</style>\n",
       "<table border=\"1\" class=\"dataframe\">\n",
       "  <thead>\n",
       "    <tr style=\"text-align: right;\">\n",
       "      <th></th>\n",
       "      <th>type</th>\n",
       "      <th>name</th>\n",
       "      <th>addr_road</th>\n",
       "      <th>addr_jibun</th>\n",
       "      <th>lat</th>\n",
       "      <th>lon</th>\n",
       "      <th>admin_nm</th>\n",
       "      <th>cctv_yn</th>\n",
       "      <th>cctv_cnt</th>\n",
       "      <th>cctv_cnt2</th>\n",
       "    </tr>\n",
       "  </thead>\n",
       "  <tbody>\n",
       "    <tr>\n",
       "      <th>13778</th>\n",
       "      <td>유치원</td>\n",
       "      <td>유정유치원</td>\n",
       "      <td>서울특별시 강남구 광평로34길 17</td>\n",
       "      <td>NaN</td>\n",
       "      <td>37.483007</td>\n",
       "      <td>127.094942</td>\n",
       "      <td>서울특별시 강남구청</td>\n",
       "      <td>Y</td>\n",
       "      <td>46</td>\n",
       "      <td>46</td>\n",
       "    </tr>\n",
       "  </tbody>\n",
       "</table>\n",
       "</div>"
      ],
      "text/plain": [
       "      type   name            addr_road addr_jibun        lat         lon  \\\n",
       "13778  유치원  유정유치원  서울특별시 강남구 광평로34길 17        NaN  37.483007  127.094942   \n",
       "\n",
       "         admin_nm cctv_yn cctv_cnt  cctv_cnt2  \n",
       "13778  서울특별시 강남구청       Y       46         46  "
      ]
     },
     "execution_count": 22,
     "metadata": {},
     "output_type": "execute_result"
    }
   ],
   "source": [
    "df_schoolzone3 = df_schoolzone2[  df_schoolzone2['cctv_cnt2'] >= 46   ]\n",
    "df_schoolzone3.head()"
   ]
  },
  {
   "cell_type": "code",
   "execution_count": 24,
   "metadata": {},
   "outputs": [
    {
     "name": "stdout",
     "output_type": "stream",
     "text": [
      "<class 'pandas.core.frame.DataFrame'>\n",
      "Int64Index: 28 entries, 2046 to 17411\n",
      "Data columns (total 10 columns):\n",
      " #   Column      Non-Null Count  Dtype  \n",
      "---  ------      --------------  -----  \n",
      " 0   type        28 non-null     object \n",
      " 1   name        28 non-null     object \n",
      " 2   addr_road   28 non-null     object \n",
      " 3   addr_jibun  18 non-null     object \n",
      " 4   lat         28 non-null     float64\n",
      " 5   lon         28 non-null     float64\n",
      " 6   admin_nm    28 non-null     object \n",
      " 7   cctv_yn     28 non-null     object \n",
      " 8   cctv_cnt    28 non-null     object \n",
      " 9   cctv_cnt2   28 non-null     int32  \n",
      "dtypes: float64(2), int32(1), object(7)\n",
      "memory usage: 2.3+ KB\n"
     ]
    },
    {
     "data": {
      "text/html": [
       "<div>\n",
       "<style scoped>\n",
       "    .dataframe tbody tr th:only-of-type {\n",
       "        vertical-align: middle;\n",
       "    }\n",
       "\n",
       "    .dataframe tbody tr th {\n",
       "        vertical-align: top;\n",
       "    }\n",
       "\n",
       "    .dataframe thead th {\n",
       "        text-align: right;\n",
       "    }\n",
       "</style>\n",
       "<table border=\"1\" class=\"dataframe\">\n",
       "  <thead>\n",
       "    <tr style=\"text-align: right;\">\n",
       "      <th></th>\n",
       "      <th>type</th>\n",
       "      <th>name</th>\n",
       "      <th>addr_road</th>\n",
       "      <th>addr_jibun</th>\n",
       "      <th>lat</th>\n",
       "      <th>lon</th>\n",
       "      <th>admin_nm</th>\n",
       "      <th>cctv_yn</th>\n",
       "      <th>cctv_cnt</th>\n",
       "      <th>cctv_cnt2</th>\n",
       "    </tr>\n",
       "  </thead>\n",
       "  <tbody>\n",
       "    <tr>\n",
       "      <th>2046</th>\n",
       "      <td>어린이집</td>\n",
       "      <td>광주법원어린이집</td>\n",
       "      <td>광주광역시 동구 필문대로187번길 31</td>\n",
       "      <td>NaN</td>\n",
       "      <td>35.154935</td>\n",
       "      <td>126.936214</td>\n",
       "      <td>광주광역시 동구청</td>\n",
       "      <td>N</td>\n",
       "      <td>2</td>\n",
       "      <td>2</td>\n",
       "    </tr>\n",
       "    <tr>\n",
       "      <th>2048</th>\n",
       "      <td>어린이집</td>\n",
       "      <td>동명어린이집</td>\n",
       "      <td>광주광역시 동구 주남길 20-10</td>\n",
       "      <td>NaN</td>\n",
       "      <td>35.101502</td>\n",
       "      <td>126.941945</td>\n",
       "      <td>광주광역시 동구청</td>\n",
       "      <td>N</td>\n",
       "      <td>3</td>\n",
       "      <td>3</td>\n",
       "    </tr>\n",
       "    <tr>\n",
       "      <th>2847</th>\n",
       "      <td>유치원</td>\n",
       "      <td>양지</td>\n",
       "      <td>부산광역시 연제구 쌍미천로30번길 53</td>\n",
       "      <td>부산광역시 연제구 연산동 산143-7</td>\n",
       "      <td>35.177807</td>\n",
       "      <td>129.092640</td>\n",
       "      <td>부산광역시 연제구청</td>\n",
       "      <td>N</td>\n",
       "      <td>1</td>\n",
       "      <td>1</td>\n",
       "    </tr>\n",
       "    <tr>\n",
       "      <th>3239</th>\n",
       "      <td>어린이집</td>\n",
       "      <td>인천근로복지공단어린이집</td>\n",
       "      <td>인천광역시 서구 승학로197번길 20-10</td>\n",
       "      <td>인천광역시 서구 심곡동 342-8</td>\n",
       "      <td>37.540946</td>\n",
       "      <td>126.671463</td>\n",
       "      <td>인천서구청</td>\n",
       "      <td>N</td>\n",
       "      <td>1</td>\n",
       "      <td>1</td>\n",
       "    </tr>\n",
       "    <tr>\n",
       "      <th>3496</th>\n",
       "      <td>초등학교</td>\n",
       "      <td>함월초등학교</td>\n",
       "      <td>울산광역시 중구 학성1길 25 (복산동)</td>\n",
       "      <td>울산광역시 중구 복산동 504</td>\n",
       "      <td>35.559012</td>\n",
       "      <td>129.329191</td>\n",
       "      <td>울산광역시 중구</td>\n",
       "      <td>N</td>\n",
       "      <td>1</td>\n",
       "      <td>1</td>\n",
       "    </tr>\n",
       "  </tbody>\n",
       "</table>\n",
       "</div>"
      ],
      "text/plain": [
       "      type          name                addr_road            addr_jibun  \\\n",
       "2046  어린이집      광주법원어린이집    광주광역시 동구 필문대로187번길 31                   NaN   \n",
       "2048  어린이집        동명어린이집       광주광역시 동구 주남길 20-10                   NaN   \n",
       "2847   유치원            양지    부산광역시 연제구 쌍미천로30번길 53  부산광역시 연제구 연산동 산143-7   \n",
       "3239  어린이집  인천근로복지공단어린이집  인천광역시 서구 승학로197번길 20-10    인천광역시 서구 심곡동 342-8   \n",
       "3496  초등학교        함월초등학교   울산광역시 중구 학성1길 25 (복산동)      울산광역시 중구 복산동 504   \n",
       "\n",
       "            lat         lon    admin_nm cctv_yn cctv_cnt  cctv_cnt2  \n",
       "2046  35.154935  126.936214   광주광역시 동구청       N        2          2  \n",
       "2048  35.101502  126.941945   광주광역시 동구청       N        3          3  \n",
       "2847  35.177807  129.092640  부산광역시 연제구청       N        1          1  \n",
       "3239  37.540946  126.671463       인천서구청       N        1          1  \n",
       "3496  35.559012  129.329191    울산광역시 중구       N        1          1  "
      ]
     },
     "execution_count": 24,
     "metadata": {},
     "output_type": "execute_result"
    }
   ],
   "source": [
    "# CCTV 여부(cctv_yn)은'N'인데, 건수가 1 이상인 데이터 조회\n",
    "df_schoolzone4 = df_schoolzone2[ (df_schoolzone2['cctv_yn'].str.contains('N')==True) & (df_schoolzone2['cctv_cnt2'] > 0 ) ]\n",
    "df_schoolzone4.info()\n",
    "df_schoolzone4.head()"
   ]
  },
  {
   "cell_type": "markdown",
   "metadata": {},
   "source": [
    "CCTV 건수 분포를 시각화해서 보고 싶은 경우"
   ]
  },
  {
   "cell_type": "code",
   "execution_count": 25,
   "metadata": {},
   "outputs": [],
   "source": [
    "#import matplotlib as mpl\n",
    "import matplotlib.pyplot as plt\n",
    "plt.rc('font', family='Malgun Gothic') #한글 폰트 적용시"
   ]
  },
  {
   "cell_type": "code",
   "execution_count": 26,
   "metadata": {},
   "outputs": [
    {
     "data": {
      "image/png": "[encoded data removed]",
      "text/plain": [
       "<Figure size 1080x216 with 1 Axes>"
      ]
     },
     "metadata": {
      "needs_background": "light"
     },
     "output_type": "display_data"
    }
   ],
   "source": [
    "df_schoolzone2['cctv_cnt'].value_counts().plot(kind='bar', figsize=(15,3), title=\"CCTV 건수별 집계\") \n",
    "plt.show()"
   ]
  },
  {
   "cell_type": "code",
   "execution_count": 28,
   "metadata": {},
   "outputs": [
    {
     "data": {
      "image/png": "[encoded data removed]",
      "text/plain": [
       "<Figure size 504x504 with 1 Axes>"
      ]
     },
     "metadata": {},
     "output_type": "display_data"
    }
   ],
   "source": [
    "df_schoolzone2.groupby(['type']).size().plot(kind='pie', figsize=(7,7)) \n",
    "plt.show()"
   ]
  },
  {
   "cell_type": "code",
   "execution_count": 29,
   "metadata": {
    "scrolled": true
   },
   "outputs": [
    {
     "data": {
      "image/png": "[encoded data removed]",
      "text/plain": [
       "<Figure size 720x288 with 1 Axes>"
      ]
     },
     "metadata": {
      "needs_background": "light"
     },
     "output_type": "display_data"
    }
   ],
   "source": [
    "df_schoolzone2.groupby(['type']).size().plot(kind='bar', figsize=(10,4), stacked = False) \n",
    "plt.show()"
   ]
  },
  {
   "cell_type": "markdown",
   "metadata": {},
   "source": [
    "Pandas에서 count와 size의 차이   \n",
    "- count : NaN을 count하지 않음  \n",
    "- size : NaN을 count함\n"
   ]
  },
  {
   "cell_type": "code",
   "execution_count": 30,
   "metadata": {},
   "outputs": [],
   "source": [
    "import seaborn as sns"
   ]
  },
  {
   "cell_type": "code",
   "execution_count": 32,
   "metadata": {},
   "outputs": [
    {
     "data": {
      "image/png": "[encoded data removed]",
      "text/plain": [
       "<Figure size 432x288 with 1 Axes>"
      ]
     },
     "metadata": {
      "needs_background": "light"
     },
     "output_type": "display_data"
    },
    {
     "data": {
      "image/png": "[encoded data removed]",
      "text/plain": [
       "<Figure size 432x288 with 1 Axes>"
      ]
     },
     "metadata": {
      "needs_background": "light"
     },
     "output_type": "display_data"
    },
    {
     "data": {
      "image/png": "[encoded data removed]",
      "text/plain": [
       "<Figure size 432x288 with 1 Axes>"
      ]
     },
     "metadata": {
      "needs_background": "light"
     },
     "output_type": "display_data"
    }
   ],
   "source": [
    "#Seaborn을 이용한 수치형 항목 기초 통계 시각화\n",
    "for col in ['cctv_cnt2', 'lat', 'lon']:\n",
    "    sns.histplot(df_schoolzone2.loc[df_schoolzone2[col].notnull(), col])\n",
    "    plt.title(col)\n",
    "    plt.show()"
   ]
  },
  {
   "cell_type": "code",
   "execution_count": 35,
   "metadata": {},
   "outputs": [
    {
     "name": "stderr",
     "output_type": "stream",
     "text": [
      "C:\\Users\\dhl\\anaconda3\\lib\\site-packages\\seaborn\\distributions.py:305: UserWarning: Dataset has 0 variance; skipping density estimate.\n",
      "  warnings.warn(msg, UserWarning)\n",
      "C:\\Users\\dhl\\anaconda3\\lib\\site-packages\\seaborn\\distributions.py:305: UserWarning: Dataset has 0 variance; skipping density estimate.\n",
      "  warnings.warn(msg, UserWarning)\n",
      "C:\\Users\\dhl\\anaconda3\\lib\\site-packages\\seaborn\\distributions.py:305: UserWarning: Dataset has 0 variance; skipping density estimate.\n",
      "  warnings.warn(msg, UserWarning)\n",
      "C:\\Users\\dhl\\anaconda3\\lib\\site-packages\\seaborn\\distributions.py:305: UserWarning: Dataset has 0 variance; skipping density estimate.\n",
      "  warnings.warn(msg, UserWarning)\n"
     ]
    },
    {
     "data": {
      "image/png": "[encoded data removed]",
      "text/plain": [
       "<Figure size 646x540 with 12 Axes>"
      ]
     },
     "metadata": {
      "needs_background": "light"
     },
     "output_type": "display_data"
    }
   ],
   "source": [
    "# type 항목에 대해 각 수치형 항목 데이터를 쌍대비교 시각화 \n",
    "sns.pairplot(df_schoolzone2[['cctv_cnt2', 'lat', 'lon'] + ['type']], hue='type', \n",
    "             x_vars=['cctv_cnt2', 'lat', 'lon'], y_vars=['cctv_cnt2', 'lat', 'lon'])\n",
    "plt.show()"
   ]
  },
  {
   "cell_type": "code",
   "execution_count": 36,
   "metadata": {},
   "outputs": [
    {
     "data": {
      "image/png": "[encoded data removed]",
      "text/plain": [
       "<Figure size 720x720 with 1 Axes>"
      ]
     },
     "metadata": {
      "needs_background": "light"
     },
     "output_type": "display_data"
    }
   ],
   "source": [
    "plt.figure(figsize=(10,10))\n",
    "sns.boxplot(y='cctv_cnt2', data=df_schoolzone2)\n",
    "plt.title(\"CCTV 건수\")\n",
    "plt.show()"
   ]
  },
  {
   "cell_type": "code",
   "execution_count": 37,
   "metadata": {},
   "outputs": [
    {
     "data": {
      "image/png": "[encoded data removed]",
      "text/plain": [
       "<Figure size 1800x720 with 1 Axes>"
      ]
     },
     "metadata": {
      "needs_background": "light"
     },
     "output_type": "display_data"
    }
   ],
   "source": [
    "plt.figure(figsize=(25,10))\n",
    "sns.boxplot(x='type', y='cctv_cnt2', hue='type', data=df_schoolzone2)\n",
    "plt.title(\"유형별 CCTV 건수\")\n",
    "plt.show()"
   ]
  },
  {
   "cell_type": "code",
   "execution_count": 38,
   "metadata": {},
   "outputs": [
    {
     "data": {
      "text/html": [
       "<div>\n",
       "<style scoped>\n",
       "    .dataframe tbody tr th:only-of-type {\n",
       "        vertical-align: middle;\n",
       "    }\n",
       "\n",
       "    .dataframe tbody tr th {\n",
       "        vertical-align: top;\n",
       "    }\n",
       "\n",
       "    .dataframe thead th {\n",
       "        text-align: right;\n",
       "    }\n",
       "</style>\n",
       "<table border=\"1\" class=\"dataframe\">\n",
       "  <thead>\n",
       "    <tr style=\"text-align: right;\">\n",
       "      <th></th>\n",
       "      <th>type</th>\n",
       "      <th>count</th>\n",
       "      <th>count_rank</th>\n",
       "    </tr>\n",
       "  </thead>\n",
       "  <tbody>\n",
       "    <tr>\n",
       "      <th>0</th>\n",
       "      <td>국제학교</td>\n",
       "      <td>6</td>\n",
       "      <td>6.0</td>\n",
       "    </tr>\n",
       "    <tr>\n",
       "      <th>1</th>\n",
       "      <td>대안학교</td>\n",
       "      <td>4</td>\n",
       "      <td>7.0</td>\n",
       "    </tr>\n",
       "    <tr>\n",
       "      <th>2</th>\n",
       "      <td>어린이집</td>\n",
       "      <td>3827</td>\n",
       "      <td>3.0</td>\n",
       "    </tr>\n",
       "    <tr>\n",
       "      <th>3</th>\n",
       "      <td>외국인교육기관</td>\n",
       "      <td>1</td>\n",
       "      <td>9.0</td>\n",
       "    </tr>\n",
       "    <tr>\n",
       "      <th>4</th>\n",
       "      <td>외국인학교</td>\n",
       "      <td>4</td>\n",
       "      <td>7.0</td>\n",
       "    </tr>\n",
       "    <tr>\n",
       "      <th>5</th>\n",
       "      <td>유치원</td>\n",
       "      <td>5769</td>\n",
       "      <td>2.0</td>\n",
       "    </tr>\n",
       "    <tr>\n",
       "      <th>6</th>\n",
       "      <td>초등학교</td>\n",
       "      <td>7624</td>\n",
       "      <td>1.0</td>\n",
       "    </tr>\n",
       "    <tr>\n",
       "      <th>7</th>\n",
       "      <td>특수학교</td>\n",
       "      <td>185</td>\n",
       "      <td>4.0</td>\n",
       "    </tr>\n",
       "    <tr>\n",
       "      <th>8</th>\n",
       "      <td>학원</td>\n",
       "      <td>47</td>\n",
       "      <td>5.0</td>\n",
       "    </tr>\n",
       "  </tbody>\n",
       "</table>\n",
       "</div>"
      ],
      "text/plain": [
       "      type  count  count_rank\n",
       "0     국제학교      6         6.0\n",
       "1     대안학교      4         7.0\n",
       "2     어린이집   3827         3.0\n",
       "3  외국인교육기관      1         9.0\n",
       "4    외국인학교      4         7.0\n",
       "5      유치원   5769         2.0\n",
       "6     초등학교   7624         1.0\n",
       "7     특수학교    185         4.0\n",
       "8       학원     47         5.0"
      ]
     },
     "execution_count": 38,
     "metadata": {},
     "output_type": "execute_result"
    }
   ],
   "source": [
    "df_schoolzone5 = df_schoolzone2.groupby('type').size().reset_index()  #유형(type)별 건수 집계 항목 생성\n",
    "df_schoolzone5.columns =['type','count']\n",
    "df_schoolzone5['count_rank'] = df_schoolzone5['count'].rank(ascending=False, method='min') #건수 순위 항목 생성\n",
    "df_schoolzone5.head(10)"
   ]
  },
  {
   "cell_type": "code",
   "execution_count": 39,
   "metadata": {},
   "outputs": [
    {
     "data": {
      "text/html": [
       "<div>\n",
       "<style scoped>\n",
       "    .dataframe tbody tr th:only-of-type {\n",
       "        vertical-align: middle;\n",
       "    }\n",
       "\n",
       "    .dataframe tbody tr th {\n",
       "        vertical-align: top;\n",
       "    }\n",
       "\n",
       "    .dataframe thead th {\n",
       "        text-align: right;\n",
       "    }\n",
       "</style>\n",
       "<table border=\"1\" class=\"dataframe\">\n",
       "  <thead>\n",
       "    <tr style=\"text-align: right;\">\n",
       "      <th></th>\n",
       "      <th>type</th>\n",
       "      <th>count</th>\n",
       "      <th>count_rank</th>\n",
       "    </tr>\n",
       "  </thead>\n",
       "  <tbody>\n",
       "    <tr>\n",
       "      <th>6</th>\n",
       "      <td>초등학교</td>\n",
       "      <td>7624</td>\n",
       "      <td>1.0</td>\n",
       "    </tr>\n",
       "    <tr>\n",
       "      <th>5</th>\n",
       "      <td>유치원</td>\n",
       "      <td>5769</td>\n",
       "      <td>2.0</td>\n",
       "    </tr>\n",
       "    <tr>\n",
       "      <th>2</th>\n",
       "      <td>어린이집</td>\n",
       "      <td>3827</td>\n",
       "      <td>3.0</td>\n",
       "    </tr>\n",
       "    <tr>\n",
       "      <th>7</th>\n",
       "      <td>특수학교</td>\n",
       "      <td>185</td>\n",
       "      <td>4.0</td>\n",
       "    </tr>\n",
       "    <tr>\n",
       "      <th>8</th>\n",
       "      <td>학원</td>\n",
       "      <td>47</td>\n",
       "      <td>5.0</td>\n",
       "    </tr>\n",
       "    <tr>\n",
       "      <th>0</th>\n",
       "      <td>국제학교</td>\n",
       "      <td>6</td>\n",
       "      <td>6.0</td>\n",
       "    </tr>\n",
       "    <tr>\n",
       "      <th>1</th>\n",
       "      <td>대안학교</td>\n",
       "      <td>4</td>\n",
       "      <td>7.0</td>\n",
       "    </tr>\n",
       "    <tr>\n",
       "      <th>4</th>\n",
       "      <td>외국인학교</td>\n",
       "      <td>4</td>\n",
       "      <td>7.0</td>\n",
       "    </tr>\n",
       "    <tr>\n",
       "      <th>3</th>\n",
       "      <td>외국인교육기관</td>\n",
       "      <td>1</td>\n",
       "      <td>9.0</td>\n",
       "    </tr>\n",
       "  </tbody>\n",
       "</table>\n",
       "</div>"
      ],
      "text/plain": [
       "      type  count  count_rank\n",
       "6     초등학교   7624         1.0\n",
       "5      유치원   5769         2.0\n",
       "2     어린이집   3827         3.0\n",
       "7     특수학교    185         4.0\n",
       "8       학원     47         5.0\n",
       "0     국제학교      6         6.0\n",
       "1     대안학교      4         7.0\n",
       "4    외국인학교      4         7.0\n",
       "3  외국인교육기관      1         9.0"
      ]
     },
     "execution_count": 39,
     "metadata": {},
     "output_type": "execute_result"
    }
   ],
   "source": [
    "df_schoolzone6 = df_schoolzone5.sort_values(by = 'count_rank').head(10)  # 건수 순위순으로 행 재정렬\n",
    "df_schoolzone6.head(10)"
   ]
  },
  {
   "cell_type": "code",
   "execution_count": 40,
   "metadata": {},
   "outputs": [
    {
     "data": {
      "image/png": "[encoded data removed]",
      "text/plain": [
       "<Figure size 1080x216 with 1 Axes>"
      ]
     },
     "metadata": {
      "needs_background": "light"
     },
     "output_type": "display_data"
    }
   ],
   "source": [
    "df_schoolzone6.index = ['초등학교', '유치원', '어린이집', '특수학교', '학원', '국제학교', '대안학교', '외국인학교', '외국인교육기관']\n",
    "df_schoolzone6['count'].plot(kind='bar', figsize=(15,3)) \n",
    "plt.xlabel('type')\n",
    "plt.show()"
   ]
  },
  {
   "cell_type": "code",
   "execution_count": null,
   "metadata": {},
   "outputs": [],
   "source": []
  }
 ],
 "metadata": {
  "kernelspec": {
   "display_name": "Python 3",
   "language": "python",
   "name": "python3"
  },
  "language_info": {
   "codemirror_mode": {
    "name": "ipython",
    "version": 3
   },
   "file_extension": ".py",
   "mimetype": "text/x-python",
   "name": "python",
   "nbconvert_exporter": "python",
   "pygments_lexer": "ipython3",
   "version": "3.8.5"
  }
 },
 "nbformat": 4,
 "nbformat_minor": 4
}
